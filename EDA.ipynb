{
 "cells": [
  {
   "cell_type": "code",
   "execution_count": 7,
   "metadata": {},
   "outputs": [],
   "source": [
    "import pickle\n",
    "import numpy as np\n",
    "import pandas as pd\n",
    "import polars as pl\n",
    "import scanpy as sc"
   ]
  },
  {
   "cell_type": "code",
   "execution_count": 5,
   "metadata": {},
   "outputs": [],
   "source": [
    "df = pl.read_parquet(\"/home/wzc26/work/vcc/nbglm/data/all_de_cache/real_de.parquet\")"
   ]
  },
  {
   "cell_type": "code",
   "execution_count": 6,
   "metadata": {},
   "outputs": [
    {
     "data": {
      "text/html": [
       "<div><style>\n",
       ".dataframe > thead > tr,\n",
       ".dataframe > tbody > tr {\n",
       "  text-align: right;\n",
       "  white-space: pre-wrap;\n",
       "}\n",
       "</style>\n",
       "<small>shape: (2_712_000, 7)</small><table border=\"1\" class=\"dataframe\"><thead><tr><th>fold_change</th><th>p_value</th><th>fdr</th><th>log2_fold_change</th><th>abs_log2_fold_change</th><th>target</th><th>feature</th></tr><tr><td>f32</td><td>f32</td><td>f32</td><td>f32</td><td>f32</td><td>cat</td><td>cat</td></tr></thead><tbody><tr><td>0.05</td><td>0.560741</td><td>0.858703</td><td>-4.321928</td><td>4.321928</td><td>&quot;CHMP3&quot;</td><td>&quot;SAMD11&quot;</td></tr><tr><td>1.066832</td><td>0.001344</td><td>0.010684</td><td>0.093333</td><td>0.093333</td><td>&quot;CHMP3&quot;</td><td>&quot;NOC2L&quot;</td></tr><tr><td>1.068095</td><td>0.326018</td><td>0.672394</td><td>0.09504</td><td>0.09504</td><td>&quot;CHMP3&quot;</td><td>&quot;KLHL17&quot;</td></tr><tr><td>1.096326</td><td>0.446153</td><td>0.781066</td><td>0.132677</td><td>0.132677</td><td>&quot;CHMP3&quot;</td><td>&quot;PLEKHN1&quot;</td></tr><tr><td>9.176692</td><td>0.009665</td><td>0.057069</td><td>3.197974</td><td>3.197974</td><td>&quot;CHMP3&quot;</td><td>&quot;PERM1&quot;</td></tr><tr><td>&hellip;</td><td>&hellip;</td><td>&hellip;</td><td>&hellip;</td><td>&hellip;</td><td>&hellip;</td><td>&hellip;</td></tr><tr><td>0.136395</td><td>0.004848</td><td>0.032185</td><td>-2.874134</td><td>2.874134</td><td>&quot;DNAJA3&quot;</td><td>&quot;MT-ND4L&quot;</td></tr><tr><td>0.526046</td><td>3.7883e-13</td><td>1.0724e-11</td><td>-0.92674</td><td>0.92674</td><td>&quot;DNAJA3&quot;</td><td>&quot;MT-ND4&quot;</td></tr><tr><td>0.05</td><td>0.023489</td><td>0.116149</td><td>-4.321928</td><td>4.321928</td><td>&quot;DNAJA3&quot;</td><td>&quot;MT-ND5&quot;</td></tr><tr><td>0.558962</td><td>0.00002</td><td>0.000244</td><td>-0.839177</td><td>0.839177</td><td>&quot;DNAJA3&quot;</td><td>&quot;MT-ND6&quot;</td></tr><tr><td>0.40778</td><td>2.3224e-7</td><td>0.000004</td><td>-1.294137</td><td>1.294137</td><td>&quot;DNAJA3&quot;</td><td>&quot;MT-CYB&quot;</td></tr></tbody></table></div>"
      ],
      "text/plain": [
       "shape: (2_712_000, 7)\n",
       "┌─────────────┬────────────┬────────────┬──────────────────┬────────────────────┬────────┬─────────┐\n",
       "│ fold_change ┆ p_value    ┆ fdr        ┆ log2_fold_change ┆ abs_log2_fold_chan ┆ target ┆ feature │\n",
       "│ ---         ┆ ---        ┆ ---        ┆ ---              ┆ ge                 ┆ ---    ┆ ---     │\n",
       "│ f32         ┆ f32        ┆ f32        ┆ f32              ┆ ---                ┆ cat    ┆ cat     │\n",
       "│             ┆            ┆            ┆                  ┆ f32                ┆        ┆         │\n",
       "╞═════════════╪════════════╪════════════╪══════════════════╪════════════════════╪════════╪═════════╡\n",
       "│ 0.05        ┆ 0.560741   ┆ 0.858703   ┆ -4.321928        ┆ 4.321928           ┆ CHMP3  ┆ SAMD11  │\n",
       "│ 1.066832    ┆ 0.001344   ┆ 0.010684   ┆ 0.093333         ┆ 0.093333           ┆ CHMP3  ┆ NOC2L   │\n",
       "│ 1.068095    ┆ 0.326018   ┆ 0.672394   ┆ 0.09504          ┆ 0.09504            ┆ CHMP3  ┆ KLHL17  │\n",
       "│ 1.096326    ┆ 0.446153   ┆ 0.781066   ┆ 0.132677         ┆ 0.132677           ┆ CHMP3  ┆ PLEKHN1 │\n",
       "│ 9.176692    ┆ 0.009665   ┆ 0.057069   ┆ 3.197974         ┆ 3.197974           ┆ CHMP3  ┆ PERM1   │\n",
       "│ …           ┆ …          ┆ …          ┆ …                ┆ …                  ┆ …      ┆ …       │\n",
       "│ 0.136395    ┆ 0.004848   ┆ 0.032185   ┆ -2.874134        ┆ 2.874134           ┆ DNAJA3 ┆ MT-ND4L │\n",
       "│ 0.526046    ┆ 3.7883e-13 ┆ 1.0724e-11 ┆ -0.92674         ┆ 0.92674            ┆ DNAJA3 ┆ MT-ND4  │\n",
       "│ 0.05        ┆ 0.023489   ┆ 0.116149   ┆ -4.321928        ┆ 4.321928           ┆ DNAJA3 ┆ MT-ND5  │\n",
       "│ 0.558962    ┆ 0.00002    ┆ 0.000244   ┆ -0.839177        ┆ 0.839177           ┆ DNAJA3 ┆ MT-ND6  │\n",
       "│ 0.40778     ┆ 2.3224e-7  ┆ 0.000004   ┆ -1.294137        ┆ 1.294137           ┆ DNAJA3 ┆ MT-CYB  │\n",
       "└─────────────┴────────────┴────────────┴──────────────────┴────────────────────┴────────┴─────────┘"
      ]
     },
     "execution_count": 6,
     "metadata": {},
     "output_type": "execute_result"
    }
   ],
   "source": [
    "df"
   ]
  },
  {
   "cell_type": "code",
   "execution_count": 13,
   "metadata": {},
   "outputs": [],
   "source": [
    "import polars as pl\n",
    "\n",
    "alpha = 0.05  # 显著性阈值\n",
    "\n",
    "genes_never_sig = (\n",
    "    df.lazy()\n",
    "      .group_by(\"feature\")\n",
    "      .agg([\n",
    "          (pl.col(\"fdr\") < alpha).any().alias(\"any_sig\"),       # 是否在任一target下显著\n",
    "          pl.n_unique(\"target\").alias(\"n_targets\"),              # 该基因被测试的target数\n",
    "          pl.min(\"fdr\").alias(\"min_fdr\")                         # 观察到的最小FDR（越大越“不变”）\n",
    "      ])\n",
    "      .filter(pl.col(\"any_sig\") == False)                        # 从未显著\n",
    "      .select([\"feature\", \"n_targets\", \"min_fdr\"])\n",
    "      .collect()\n",
    ")\n"
   ]
  },
  {
   "cell_type": "code",
   "execution_count": 14,
   "metadata": {},
   "outputs": [
    {
     "data": {
      "text/html": [
       "<div><style>\n",
       ".dataframe > thead > tr,\n",
       ".dataframe > tbody > tr {\n",
       "  text-align: right;\n",
       "  white-space: pre-wrap;\n",
       "}\n",
       "</style>\n",
       "<small>shape: (159, 3)</small><table border=\"1\" class=\"dataframe\"><thead><tr><th>feature</th><th>n_targets</th><th>min_fdr</th></tr><tr><td>cat</td><td>u32</td><td>f32</td></tr></thead><tbody><tr><td>&quot;WEE2&quot;</td><td>150</td><td>0.074082</td></tr><tr><td>&quot;LDHAL6B&quot;</td><td>150</td><td>0.111553</td></tr><tr><td>&quot;LRP5L&quot;</td><td>150</td><td>0.127757</td></tr><tr><td>&quot;OOSP1&quot;</td><td>150</td><td>0.077059</td></tr><tr><td>&quot;OR5H14&quot;</td><td>150</td><td>0.082387</td></tr><tr><td>&hellip;</td><td>&hellip;</td><td>&hellip;</td></tr><tr><td>&quot;OR5V1&quot;</td><td>150</td><td>0.107547</td></tr><tr><td>&quot;KRTAP9-7&quot;</td><td>150</td><td>0.056904</td></tr><tr><td>&quot;SAR1A&quot;</td><td>150</td><td>0.078741</td></tr><tr><td>&quot;SLC35G3&quot;</td><td>150</td><td>0.097002</td></tr><tr><td>&quot;SLC11A1&quot;</td><td>150</td><td>0.074406</td></tr></tbody></table></div>"
      ],
      "text/plain": [
       "shape: (159, 3)\n",
       "┌──────────┬───────────┬──────────┐\n",
       "│ feature  ┆ n_targets ┆ min_fdr  │\n",
       "│ ---      ┆ ---       ┆ ---      │\n",
       "│ cat      ┆ u32       ┆ f32      │\n",
       "╞══════════╪═══════════╪══════════╡\n",
       "│ WEE2     ┆ 150       ┆ 0.074082 │\n",
       "│ LDHAL6B  ┆ 150       ┆ 0.111553 │\n",
       "│ LRP5L    ┆ 150       ┆ 0.127757 │\n",
       "│ OOSP1    ┆ 150       ┆ 0.077059 │\n",
       "│ OR5H14   ┆ 150       ┆ 0.082387 │\n",
       "│ …        ┆ …         ┆ …        │\n",
       "│ OR5V1    ┆ 150       ┆ 0.107547 │\n",
       "│ KRTAP9-7 ┆ 150       ┆ 0.056904 │\n",
       "│ SAR1A    ┆ 150       ┆ 0.078741 │\n",
       "│ SLC35G3  ┆ 150       ┆ 0.097002 │\n",
       "│ SLC11A1  ┆ 150       ┆ 0.074406 │\n",
       "└──────────┴───────────┴──────────┘"
      ]
     },
     "execution_count": 14,
     "metadata": {},
     "output_type": "execute_result"
    }
   ],
   "source": [
    "genes_never_sig"
   ]
  },
  {
   "cell_type": "code",
   "execution_count": 8,
   "metadata": {},
   "outputs": [
    {
     "data": {
      "text/plain": [
       "AnnData object with n_obs × n_vars = 214109 × 18080\n",
       "    obs: 'target_gene', 'guide_id', 'batch', 'n_genes', 'n_genes_by_counts', 'total_counts', 'total_counts_mt', 'pct_counts_mt', 'S_score', 'G2M_score', 'phase'\n",
       "    var: 'gene_id', 'mt', 'n_cells_by_counts', 'mean_counts', 'pct_dropout_by_counts', 'total_counts'"
      ]
     },
     "execution_count": 8,
     "metadata": {},
     "output_type": "execute_result"
    }
   ],
   "source": [
    "adata = sc.read_h5ad(\"/home/wzc26/work/vcc/nbglm/data/adata_pp.h5ad\")\n",
    "adata"
   ]
  },
  {
   "cell_type": "code",
   "execution_count": 16,
   "metadata": {},
   "outputs": [],
   "source": [
    "adata_ctrl = adata[adata.obs['target_gene'] == \"non-targeting\"].copy()"
   ]
  },
  {
   "cell_type": "code",
   "execution_count": 22,
   "metadata": {},
   "outputs": [
    {
     "data": {
      "text/plain": [
       "count    36863.000000\n",
       "mean     55454.855469\n",
       "std      16965.064453\n",
       "min      19982.000000\n",
       "25%      43201.500000\n",
       "50%      53823.000000\n",
       "75%      66561.000000\n",
       "max      99982.000000\n",
       "Name: total_counts, dtype: float64"
      ]
     },
     "execution_count": 22,
     "metadata": {},
     "output_type": "execute_result"
    }
   ],
   "source": [
    "adata_ctrl.obs['total_counts'].describe()"
   ]
  }
 ],
 "metadata": {
  "kernelspec": {
   "display_name": "torch",
   "language": "python",
   "name": "python3"
  },
  "language_info": {
   "codemirror_mode": {
    "name": "ipython",
    "version": 3
   },
   "file_extension": ".py",
   "mimetype": "text/x-python",
   "name": "python",
   "nbconvert_exporter": "python",
   "pygments_lexer": "ipython3",
   "version": "3.12.11"
  }
 },
 "nbformat": 4,
 "nbformat_minor": 2
}
