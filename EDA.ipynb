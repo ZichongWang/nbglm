{
 "cells": [
  {
   "cell_type": "code",
   "execution_count": 1,
   "metadata": {},
   "outputs": [],
   "source": [
    "import pickle\n",
    "import numpy as np\n",
    "import pandas as pd"
   ]
  },
  {
   "cell_type": "code",
   "execution_count": 2,
   "metadata": {},
   "outputs": [],
   "source": [
    "pk = pickle.load(open('/home/wzc26/work/vcc/nbglm/data/true_de_cache_all.pkl', 'rb'))"
   ]
  },
  {
   "cell_type": "code",
   "execution_count": 4,
   "metadata": {},
   "outputs": [
    {
     "data": {
      "text/plain": [
       "dict_keys(['ACAT2', 'ACVR1B', 'AKT2', 'ANTXR1', 'ARID1A', 'ATM', 'ATP1B1', 'ATP6V0B', 'ATP6V0C', 'BIRC2', 'BRD9', 'C1QBP', 'CALM3', 'CAMSAP2', 'CASP2', 'CASP3', 'CAST', 'CDCA2', 'CENPO', 'CHMP3', 'CLDN6', 'CLDN7', 'CREG1', 'DAXX', 'DHCR24', 'DHX36', 'DLG5', 'DNAJA3', 'DNMT1', 'DZIP3', 'EID2', 'EIF4B', 'EPB41L2', 'EPHB4', 'ETV4', 'EWSR1', 'FDPS', 'FOXH1', 'GSK3B', 'HAT1', 'HIRA', 'HMGB2', 'HMGN1', 'HSBP1', 'IDE', 'IGF2R', 'IKBKG', 'INSIG1', 'IRF3', 'KAT2A', 'KDM1A', 'KDM2B', 'KDR', 'KIF1B', 'KIF20A', 'KLF10', 'LAD1', 'LRPPRC', 'LZTR1', 'MAP1B', 'MAP3K7', 'MAPKAPK2', 'MAST2', 'MAU2', 'MBTPS1', 'MED1', 'MED12', 'MED13', 'MED13L', 'MED24', 'METTL14', 'METTL17', 'METTL3', 'MKI67', 'MTA1', 'NCK2', 'NDUFB4', 'NDUFB6', 'NISCH', 'NIT1', 'NRAS', 'NREP', 'OXA1L', 'OXCT1', 'PAGR1', 'PBX1', 'PHF10', 'PHF14', 'PLCB3', 'PMEL', 'PMS1', 'POLB', 'PRCP', 'PRDM14', 'PRR12', 'PTPN1', 'RAB3B', 'RAF1', 'RNF2', 'RNF20', 'RRM1', 'SAFB', 'SALL4', 'SDC1', 'SEC62', 'SHPRH', 'SIN3B', 'SIX4', 'SLC25A3', 'SLC39A6', 'SMAGP', 'SMARCA4', 'SMARCA5', 'SNCA', 'SOX2', 'SRC', 'SSBP1', 'STAG2', 'STAT1', 'STAT6', 'STX4', 'SUPT4H1', 'SV2A', 'TADA1', 'TAF13', 'TARBP2', 'TAZ', 'TCF3', 'TET1', 'TFAM', 'TGFBR2', 'TMBIM6', 'TMSB10', 'TMSB4X', 'TRAM2', 'TRAPPC6A', 'TSC22D4', 'TWF2', 'TXNDC9', 'UBE3C', 'UQCRQ', 'USP22', 'WFS1', 'WSB2', 'XRCC4', 'ZNF286A', 'ZNF426', 'ZNF562', 'ZNF593', 'ZNF714'])"
      ]
     },
     "execution_count": 4,
     "metadata": {},
     "output_type": "execute_result"
    }
   ],
   "source": [
    "pk.keys()"
   ]
  }
 ],
 "metadata": {
  "kernelspec": {
   "display_name": "torch",
   "language": "python",
   "name": "python3"
  },
  "language_info": {
   "codemirror_mode": {
    "name": "ipython",
    "version": 3
   },
   "file_extension": ".py",
   "mimetype": "text/x-python",
   "name": "python",
   "nbconvert_exporter": "python",
   "pygments_lexer": "ipython3",
   "version": "3.12.11"
  }
 },
 "nbformat": 4,
 "nbformat_minor": 2
}
